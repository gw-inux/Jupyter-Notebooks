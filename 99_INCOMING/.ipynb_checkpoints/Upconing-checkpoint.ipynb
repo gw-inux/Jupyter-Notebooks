{
 "cells": [
  {
   "cell_type": "markdown",
   "id": "b87da278-c698-4c3f-8464-8bbaf4810515",
   "metadata": {},
   "source": [
    "#  Upconing of the Saltwater Interface\n",
    "This notebook demonstrate the principle of upconing due to pumping. The notebook is based on an example from the INOWAS platform (https://www.inowas.com)\n",
    "\n",
    "## Introduction\n",
    "\n",
    "Upconing of the saltwater interface can occur when the aquifer head is lowered by pumping from wells. Schmork and Mercado (1969) and Dagan and Bear (1968) developed equations to calculate upconing and determine the maximum well pumping rate at a new equilibrium caused by pumping. In these calculations, the pumping well is considered as a point.\n",
    "\n",
    "The maximum upconing, which occurs directly underneath the pumping well, can be calculated as:\n",
    "\n",
    "$$ z(0) = \\frac{Q}{2 \\pi d K \\Delta \\rho} $$\n",
    "\n",
    "As a guideline, Dagan and Bear (1969) propose that the interface will remain stable if the upconed height ($z$) does not exceed the critical elevation, which is defined as one-third of $d$ (Callander et al., 2011). Based on this, the permitted pumping rate should not exceed:\n",
    "\n",
    "$$ Q_{\\text{max}} \\leq \\frac{0.6 \\pi d^2 K}{\\Delta \\rho} $$\n",
    "\n",
    "where\n",
    "$$ \\Delta \\rho = \\frac{\\rho_s - \\rho_f}{\\rho_f} $$\n",
    "and\n",
    "\n",
    "- $z$ = new equilibrium elevation (distance between the upconed and original interface) [L],\n",
    "- $Q$ = pumping rate [L³/T],\n",
    "- $d$ = pre-pumping distance from base of well to interface [L],\n",
    "- $K$ = hydraulic conductivity [L/T].\n",
    "\n",
    "To calculate the upconing at any distance ($x$) from the well, the following equation can be used under steady-state conditions $( t \\to \\infty ) $ (Bear, 1999):\n",
    "\n",
    "$$ z(x) = \\left( \\frac{1}{\\sqrt{\\frac{x^2}{d^2} + 1}} - \\frac{1}{\\sqrt{\\frac{x^2}{d^2} + \\left(1 + \\frac{\\Delta \\rho K t}{n d (2 + \\Delta \\rho)}\\right)^2}} \\right) \\frac{Q}{2 K \\pi d \\Delta \\rho} $$\n",
    "\n",
    "where\n",
    "\n",
    "- $n$ = porosity [-],\n",
    "- $t$ = time [T],\n",
    "- $x$ = distance from the well [L].\n",
    "\n",
    "### References\n",
    "Bear, J. (Ed.), 1999. Seawater intrusion in coastal aquifers: concepts, methods and practices, Theory and applications of transport in porous media. Kluwer, Dordrecht.\n",
    "\n",
    "Callander, P., Lough, H., Steffens, C., 2011. New Zealand Guidelines for the Monitoring and Management of Sea Water Intrusion Risks on Groundwater. Pattle Delamore Partners LTD, New Zealand.\n",
    "\n",
    "Schmork, S., Mercado, A., 1969. Upconing of Fresh Water-Sea Water Interface Below Pumping Wells, Field Study. Water Resources Research 5, 1290–1311. doi: 10.1029/WR005i006p01290\n",
    "\n",
    "Dagan, G., Bear, J., 1968. Solving The Problem Of Local Interface Upconing In A Coastal Aquifer By The Method Of Small Perturbations. Journal of Hydraulic Research 6, 15–44. doi: 10.1080/00221686809500218\n"
   ]
  },
  {
   "cell_type": "code",
   "execution_count": 13,
   "id": "719bd4d5-6eac-4e43-ac5e-bcc4892389f1",
   "metadata": {},
   "outputs": [
    {
     "data": {
      "application/vnd.jupyter.widget-view+json": {
       "model_id": "b1a305c2cc1142f1ac5c6f070d7a10e9",
       "version_major": 2,
       "version_minor": 0
      },
      "text/plain": [
       "interactive(children=(BoundedFloatText(value=1000.0, description='$Q$:', max=5000.0, min=100.0, step=10.0), Bo…"
      ]
     },
     "metadata": {},
     "output_type": "display_data"
    },
    {
     "data": {
      "text/plain": [
       "<function __main__.upconing(Q, K, d_pre, rho_f, rho_s, n)>"
      ]
     },
     "execution_count": 13,
     "metadata": {},
     "output_type": "execute_result"
    }
   ],
   "source": [
    "# Initialize librarys\n",
    "from scipy.special import erfc, erf\n",
    "import matplotlib\n",
    "import matplotlib.pyplot as plt\n",
    "import numpy as np\n",
    "import math\n",
    "from ipywidgets import *\n",
    "\n",
    "# Definition of the function\n",
    "def upconing(Q, K, d_pre, rho_f, rho_s, n):\n",
    "\n",
    "    t = math.inf\n",
    "    x = np.arange(-750, 750, 0.25)\n",
    "    z = (1/(x**2/d_pre**2+1)**0.5-1/(x**2/d_pre**2+(1+((rho_s - rho_f)/rho_f)*K*t/(n*d_pre*(2+(rho_s - rho_f)/rho_f)))**2)**0.5)* Q/(2*math.pi*d_pre*K*((rho_s - rho_f)/rho_f))\n",
    "    z_0 = Q*(rho_f/(rho_s - rho_f))/(2*math.pi*d_pre*K)\n",
    "    Q_max = (0.6*math.pi*d_pre**2*K)/(rho_f/(rho_s - rho_f))\n",
    "    z_max = Q_max*(rho_f/(rho_s - rho_f))/(2*math.pi*d_pre*K)\n",
    "    print(\"Maximum upconing:\", z_0, \"m\")\n",
    "    print(\"Critical pumping rate:\", Q_max, \"m^3/d\")\n",
    "    print(\"Critical upconing elevation:\", z_max, \"m\")\n",
    "    \n",
    "    # PLOT FIGURE\n",
    "    fig = plt.figure(figsize=(9,6))\n",
    "    ax = fig.add_subplot(1, 1, 1)\n",
    "    ax.plot(x,z, color = 'red', linewidth = 2.5)\n",
    "    ax.fill_between(x,z,-2.5, facecolor='blue')\n",
    "    ax.fill_between(x,z,d_pre+1, facecolor='lightblue')\n",
    "    plt.hlines(z_max, -750, 750, color = 'black', linestyle = \"dashed\")\n",
    "    plt.vlines(2.5, d_pre, d_pre+1, color = 'black', linestyle = \"dashed\")\n",
    "    plt.vlines(-2.5, d_pre, d_pre+1, color = 'black', linestyle = \"dashed\")\n",
    "\n",
    "\n",
    "# Computation\n",
    "interact(upconing,\n",
    "         Q=widgets.BoundedFloatText(value=1000, min=100, max=5000, step=10, description=\"$Q$:\", disabled=False),\n",
    "         K=widgets.BoundedFloatText(value=50, min=1, max=100, step=1, description=\"$K$:\", disabled=False),\n",
    "         d_pre=widgets.BoundedFloatText(value=10, min=0.5, max=100, step=0.1, description=\"$d_{pre}$:\", disabled=False),\n",
    "         rho_f=widgets.BoundedFloatText(value=1000, min=950, max=1050, step=1, description=r'$\\rho_{fresh}$:', disabled=False),\n",
    "         rho_s=widgets.BoundedFloatText(value=1025 ,min=950, max=1050,step=1, description=r'$\\rho_{salt}$:', disabled=False),\n",
    "         n=widgets.BoundedFloatText(value=0.15 ,min=0.05, max=0.4,step=0.01, description=\"$n$:\", disabled=False))"
   ]
  },
  {
   "cell_type": "code",
   "execution_count": null,
   "id": "ac4fac7c-c75c-427f-9d03-45a3d6397ae3",
   "metadata": {},
   "outputs": [],
   "source": []
  }
 ],
 "metadata": {
  "kernelspec": {
   "display_name": "Python 3 (ipykernel)",
   "language": "python",
   "name": "python3"
  },
  "language_info": {
   "codemirror_mode": {
    "name": "ipython",
    "version": 3
   },
   "file_extension": ".py",
   "mimetype": "text/x-python",
   "name": "python",
   "nbconvert_exporter": "python",
   "pygments_lexer": "ipython3",
   "version": "3.12.5"
  }
 },
 "nbformat": 4,
 "nbformat_minor": 5
}
