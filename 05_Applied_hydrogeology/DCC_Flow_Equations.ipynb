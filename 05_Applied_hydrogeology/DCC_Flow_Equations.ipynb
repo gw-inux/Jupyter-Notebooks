{
 "cells": [
  {
   "cell_type": "markdown",
   "id": "67719507",
   "metadata": {},
   "source": [
    "# Flow equations for laminar and turbulent flow\n",
    "\n",
    "This notebook computes the relationship between hydraulic gradient and discharge for pipe flow. The computation accounts for laminar and turbulent flow conditions.\n",
    "\n",
    "The calculation is based on the Darcy-Weisbach equation with the Hagen-Poiseulle relationship for laminar flow:\n",
    "\n",
    "$$ q = - \\frac{gd^2}{32\\nu} \\frac{\\Delta h}{\\Delta l \\tau}$$ respectively for a circular conduit\n",
    "\n",
    "$$ Q = \\frac{\\pi}{4}d^2 \\frac{gd^2}{32\\nu} = \\frac{\\pi d^4g}{128\\nu} \\frac{\\Delta h}{\\Delta l \\tau}$$\n",
    "\n",
    "For turbulent flow, the Colebrook-White equation is considered\n",
    "\n",
    "$$ Q = - \\sqrt{\\frac{|\\Delta h| g d^5 \\pi^2}{2 \\Delta l \\tau}} \\log \\left( \\frac{2.51 \\nu}{\\sqrt{\\frac{2 |\\Delta h| g d^3}{\\Delta l \\tau}}} + \\frac{k_c}{3.71 d} \\right) \\frac{\\Delta h}{|\\Delta h|}  $$\n",
    "\n",
    "$$F_{\\text{adj}} = \\sqrt{\\frac{N_{\\text{Re}}}{R_{\\text{e}}}} = \\sqrt{\\frac{K_{\\text{lam}} \\Delta h_{\\text{crit}}}{K_{\\text{turb}} \\Delta h}}\n",
    "$$"
   ]
  },
  {
   "cell_type": "code",
   "execution_count": 1,
   "id": "998b7dac",
   "metadata": {},
   "outputs": [
    {
     "data": {
      "application/vnd.jupyter.widget-view+json": {
       "model_id": "1bfd926146f44b79b075fc097ec978ca",
       "version_major": 2,
       "version_minor": 0
      },
      "text/plain": [
       "interactive(children=(FloatLogSlider(value=1.0, description='d', max=2.0, min=-3.0, readout_format='6.3f', ste…"
      ]
     },
     "metadata": {},
     "output_type": "display_data"
    },
    {
     "data": {
      "text/plain": [
       "<function __main__.plot_Q(d, kc, fixQ, fixi)>"
      ]
     },
     "execution_count": 1,
     "metadata": {},
     "output_type": "execute_result"
    }
   ],
   "source": [
    "import numpy as np\n",
    "import matplotlib.pyplot as plt\n",
    "from ipywidgets import *\n",
    "\n",
    "# Constants\n",
    "g = 9.81  # Acceleration due to gravity (m/s^2)\n",
    "pi = np.pi\n",
    "tau = 1.0  # Given that tau is 1\n",
    "nu = 1.31e-6  # Kinematic viscosity (m^2/s)\n",
    "\n",
    "# Function to compute Q for laminar and turbulent flow\n",
    "def compute_Q(dh, dl, d, kc):\n",
    "    Q_HP = (pi * d**4 * g / (128 * nu)) * (dh / (dl * tau))\n",
    "    term1 = np.sqrt(np.abs(dh) * g * d**5 * pi**2 / (2 * dl * tau))\n",
    "    term2 = 2.51 * nu / np.sqrt(2 * np.abs(dh) * g * d**3 / (dl * tau))\n",
    "    term3 = kc / (3.71 * d)\n",
    "    log_term = np.log(term2 + term3)\n",
    "    Q_CW = -term1 * log_term * (dh / np.abs(dh))\n",
    "    return Q_HP, Q_CW\n",
    "\n",
    "def plot_Q(d, kc, fixQ, fixi):\n",
    "    # Range of delta_h / delta_l values (hydraulic gradient)\n",
    "    dh = np.linspace(1E-9, 1e1, 20)\n",
    "    dl = 1.0  # Assume delta_l to be 1 for simplicity i.e. delta h represents the hydraulic gradient i\n",
    "    \n",
    "    # Compute Q for each hydraulic gradient\n",
    "    Q_HP, Q_CW,  = compute_Q(dh, dl, d, kc)\n",
    "    \n",
    "    # Plotting\n",
    "    plt.figure(figsize=(10, 6))\n",
    "    \n",
    "    plt.plot(dh, Q_CW, linewidth=3., label=r'Colebrook White')\n",
    "    plt.plot(dh, Q_HP, linewidth=3., label=r'Hagen-Poiseuille')\n",
    "    # Add a horizontal line at y=0.5\n",
    "    plt.axhline(y=fixQ, color='red', linewidth=1.,linestyle='--')\n",
    "    plt.axvline(x=fixi, color='green',linewidth=1., linestyle='--')\n",
    "    plt.xscale('log')\n",
    "    plt.yscale('log')\n",
    "    plt.xlim(1e-9, 1e1)\n",
    "    plt.ylim(1e-5, 1e10)\n",
    "    plt.xlabel(r'hydraulic gradient i', fontsize=14)\n",
    "    plt.ylabel(r'$Q$', fontsize=14)\n",
    "    plt.title('Relationship between Q and Hydraulic Gradient i', fontsize=16)\n",
    "    plt.legend()\n",
    "    plt.grid(True)\n",
    "    plt.show()\n",
    "    \n",
    "d = 1\n",
    "kc = d/10\n",
    "fixQ = 1\n",
    "fixi = 1e-5\n",
    "\n",
    "interact(plot_Q,\n",
    "         d =widgets.FloatLogSlider(value=d, base=10,min=-3, max=2, step=0.01,readout=True,readout_format='6.3f'),\n",
    "         kc=widgets.FloatLogSlider(value=kc, base=10,min=-4, max=2, step=0.01,readout=True,readout_format='6.3f'),\n",
    "         fixQ=widgets.FloatLogSlider(value=fixQ, base=10,min=-4, max=2, step=0.01,readout=True,readout_format='6.3f'),\n",
    "         fixi=widgets.FloatLogSlider(value=fixi, base=10,min=-9, max=-1, step=0.01,readout=True,readout_format='6.3e'))\n"
   ]
  },
  {
   "cell_type": "code",
   "execution_count": null,
   "id": "067e7fb0",
   "metadata": {},
   "outputs": [],
   "source": []
  }
 ],
 "metadata": {
  "kernelspec": {
   "display_name": "Python 3 (ipykernel)",
   "language": "python",
   "name": "python3"
  },
  "language_info": {
   "codemirror_mode": {
    "name": "ipython",
    "version": 3
   },
   "file_extension": ".py",
   "mimetype": "text/x-python",
   "name": "python",
   "nbconvert_exporter": "python",
   "pygments_lexer": "ipython3",
   "version": "3.11.7"
  },
  "toc": {
   "base_numbering": 1,
   "nav_menu": {},
   "number_sections": true,
   "sideBar": true,
   "skip_h1_title": false,
   "title_cell": "Table of Contents",
   "title_sidebar": "Contents",
   "toc_cell": false,
   "toc_position": {},
   "toc_section_display": true,
   "toc_window_display": false
  }
 },
 "nbformat": 4,
 "nbformat_minor": 5
}
