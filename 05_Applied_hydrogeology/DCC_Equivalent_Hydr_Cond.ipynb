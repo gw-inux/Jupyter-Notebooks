{
 "cells": [
  {
   "cell_type": "markdown",
   "id": "df14549d",
   "metadata": {},
   "source": [
    "# Equivalent hydraulic conductivity\n",
    "\n",
    "This notebook computes the equivalent hydraulic conductivity for a discrete karst conduit with a given diameter _d_ for laminar flow conditions.\n",
    "\n",
    "The calculation is based on the Hagen-Poiseulle equation:\n",
    "\n",
    "$$ K \\sim \\frac{gd^2}{32\\nu}$$"
   ]
  },
  {
   "cell_type": "code",
   "execution_count": 1,
   "id": "05e83072",
   "metadata": {},
   "outputs": [
    {
     "data": {
      "application/vnd.jupyter.widget-view+json": {
       "model_id": "86dabbbfb7624867b7fed927514794f8",
       "version_major": 2,
       "version_minor": 0
      },
      "text/plain": [
       "interactive(children=(FloatLogSlider(value=1.0, description='d', max=2.0, min=-3.0, readout_format='6.3f', ste…"
      ]
     },
     "metadata": {},
     "output_type": "display_data"
    },
    {
     "data": {
      "text/plain": [
       "<function __main__.Plot_K_eq(g, d, nu)>"
      ]
     },
     "execution_count": 1,
     "metadata": {},
     "output_type": "execute_result"
    }
   ],
   "source": [
    "# This is a simple computation with a fixed temperature of 10 degrees celsius.\n",
    "\n",
    "# Initialize librarys\n",
    "import matplotlib\n",
    "import matplotlib.pyplot as plt\n",
    "import numpy as np\n",
    "import math\n",
    "from ipywidgets import *\n",
    "\n",
    "\n",
    "def K_eq(g, d, nu):\n",
    "    K_eq = g * d**2/(32*nu)\n",
    "    return K_eq\n",
    "\n",
    "def Plot_K_eq(g, d, nu):\n",
    "    ymax = K_eq(9.81, 100, 0.00000131)\n",
    "    x = np.arange(0, 100, 0.001)\n",
    "    y = np.arange(0, ymax, 10)\n",
    "    \n",
    "    #Compute K_eq\n",
    "    y = K_eq(9.81, x, 0.00000131)\n",
    "    \n",
    "    #Compute K_eq for the example point\n",
    "    x_point = d\n",
    "    y_point = K_eq(9.81, x_point, 0.00000131)\n",
    "    \n",
    "    # Plot\n",
    "    fig = plt.figure(figsize=(8,6))\n",
    "    ax = fig.add_subplot(1, 1, 1)\n",
    "\n",
    "    ax.plot(x,y, label='K_eq')\n",
    "    plt.xscale('log')\n",
    "    plt.yscale('log')\n",
    "    ax.set(xlabel='Conduit diameter (m)', ylabel='K_eq (m/s)',title='Equivalent Hydraulic conductivity of a karst conduit')\n",
    "    ax.set(xlim=(1e-3, 100), ylim=(1e-1, ymax))\n",
    "    plt.plot(x_point,y_point, marker='o', color='r',linestyle ='None', label='your input') \n",
    "    ax.grid()\n",
    "    plt.legend()\n",
    "    plt.show()\n",
    "    \n",
    "    print(\"Diameter (in m): %6.3f\" %x_point)\n",
    "    print('K_eq (in m/s):  %5.2f' %y_point)\n",
    "    \n",
    "d = 1\n",
    "interact(Plot_K_eq,\n",
    "         g=fixed(9.81),\n",
    "         d=widgets.FloatLogSlider(value=d, base=10,min=-3, max=2, step=0.01,readout=True,readout_format='6.3f'),\n",
    "         nu=fixed(0.00000131))"
   ]
  },
  {
   "cell_type": "code",
   "execution_count": null,
   "id": "9dfaca84",
   "metadata": {},
   "outputs": [],
   "source": []
  }
 ],
 "metadata": {
  "kernelspec": {
   "display_name": "Python 3 (ipykernel)",
   "language": "python",
   "name": "python3"
  },
  "language_info": {
   "codemirror_mode": {
    "name": "ipython",
    "version": 3
   },
   "file_extension": ".py",
   "mimetype": "text/x-python",
   "name": "python",
   "nbconvert_exporter": "python",
   "pygments_lexer": "ipython3",
   "version": "3.11.7"
  },
  "toc": {
   "base_numbering": 1,
   "nav_menu": {},
   "number_sections": true,
   "sideBar": true,
   "skip_h1_title": false,
   "title_cell": "Table of Contents",
   "title_sidebar": "Contents",
   "toc_cell": false,
   "toc_position": {},
   "toc_section_display": true,
   "toc_window_display": false
  }
 },
 "nbformat": 4,
 "nbformat_minor": 5
}
